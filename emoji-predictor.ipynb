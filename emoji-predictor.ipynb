{
 "cells": [
  {
   "cell_type": "code",
   "execution_count": 1,
   "id": "d72e474b",
   "metadata": {
    "_cell_guid": "b1076dfc-b9ad-4769-8c92-a6c4dae69d19",
    "_uuid": "8f2839f25d086af736a60e9eeb907d3b93b6e0e5",
    "execution": {
     "iopub.execute_input": "2025-05-27T00:30:39.164464Z",
     "iopub.status.busy": "2025-05-27T00:30:39.164159Z",
     "iopub.status.idle": "2025-05-27T00:30:41.287693Z",
     "shell.execute_reply": "2025-05-27T00:30:41.286072Z"
    },
    "papermill": {
     "duration": 2.131964,
     "end_time": "2025-05-27T00:30:41.289650",
     "exception": false,
     "start_time": "2025-05-27T00:30:39.157686",
     "status": "completed"
    },
    "tags": []
   },
   "outputs": [
    {
     "name": "stdout",
     "output_type": "stream",
     "text": [
      "/kaggle/input/glove-embeddings/glove.6B.200d.txt\n",
      "/kaggle/input/glove-embeddings/glove.6B.50d.txt\n",
      "/kaggle/input/glove-embeddings/glove.6B.300d.txt\n",
      "/kaggle/input/glove-embeddings/glove.6B.100d.txt\n",
      "/kaggle/input/emoji-dataset/emoji_data.csv\n"
     ]
    }
   ],
   "source": [
    "# This Python 3 environment comes with many helpful analytics libraries installed\n",
    "# It is defined by the kaggle/python Docker image: https://github.com/kaggle/docker-python\n",
    "# For example, here's several helpful packages to load\n",
    "\n",
    "import numpy as np # linear algebra\n",
    "import pandas as pd # data processing, CSV file I/O (e.g. pd.read_csv)\n",
    "\n",
    "# Input data files are available in the read-only \"../input/\" directory\n",
    "# For example, running this (by clicking run or pressing Shift+Enter) will list all files under the input directory\n",
    "\n",
    "import os\n",
    "for dirname, _, filenames in os.walk('/kaggle/input'):\n",
    "    for filename in filenames:\n",
    "        print(os.path.join(dirname, filename))\n",
    "\n",
    "# You can write up to 20GB to the current directory (/kaggle/working/) that gets preserved as output when you create a version using \"Save & Run All\" \n",
    "# You can also write temporary files to /kaggle/temp/, but they won't be saved outside of the current session"
   ]
  },
  {
   "cell_type": "code",
   "execution_count": 2,
   "id": "679578c4",
   "metadata": {
    "execution": {
     "iopub.execute_input": "2025-05-27T00:30:41.298241Z",
     "iopub.status.busy": "2025-05-27T00:30:41.297761Z",
     "iopub.status.idle": "2025-05-27T00:31:01.566458Z",
     "shell.execute_reply": "2025-05-27T00:31:01.565397Z"
    },
    "papermill": {
     "duration": 20.274715,
     "end_time": "2025-05-27T00:31:01.568247",
     "exception": false,
     "start_time": "2025-05-27T00:30:41.293532",
     "status": "completed"
    },
    "tags": []
   },
   "outputs": [
    {
     "name": "stderr",
     "output_type": "stream",
     "text": [
      "2025-05-27 00:30:43.626954: E external/local_xla/xla/stream_executor/cuda/cuda_fft.cc:477] Unable to register cuFFT factory: Attempting to register factory for plugin cuFFT when one has already been registered\n",
      "WARNING: All log messages before absl::InitializeLog() is called are written to STDERR\n",
      "E0000 00:00:1748305843.906022      13 cuda_dnn.cc:8310] Unable to register cuDNN factory: Attempting to register factory for plugin cuDNN when one has already been registered\n",
      "E0000 00:00:1748305843.990334      13 cuda_blas.cc:1418] Unable to register cuBLAS factory: Attempting to register factory for plugin cuBLAS when one has already been registered\n"
     ]
    }
   ],
   "source": [
    "import numpy as np\n",
    "import pandas as pd\n",
    "import emoji\n",
    "\n",
    "from keras.models import Sequential\n",
    "from keras.layers import Dense, LSTM, SimpleRNN, Embedding\n",
    "from tensorflow.keras.preprocessing.text import Tokenizer\n",
    "from tensorflow.keras.preprocessing.sequence import pad_sequences\n",
    "from tensorflow.keras.utils import to_categorical"
   ]
  },
  {
   "cell_type": "code",
   "execution_count": 3,
   "id": "00d11c3d",
   "metadata": {
    "execution": {
     "iopub.execute_input": "2025-05-27T00:31:01.576836Z",
     "iopub.status.busy": "2025-05-27T00:31:01.576241Z",
     "iopub.status.idle": "2025-05-27T00:31:01.618912Z",
     "shell.execute_reply": "2025-05-27T00:31:01.617223Z"
    },
    "papermill": {
     "duration": 0.049112,
     "end_time": "2025-05-27T00:31:01.620863",
     "exception": false,
     "start_time": "2025-05-27T00:31:01.571751",
     "status": "completed"
    },
    "tags": []
   },
   "outputs": [
    {
     "data": {
      "text/html": [
       "<div>\n",
       "<style scoped>\n",
       "    .dataframe tbody tr th:only-of-type {\n",
       "        vertical-align: middle;\n",
       "    }\n",
       "\n",
       "    .dataframe tbody tr th {\n",
       "        vertical-align: top;\n",
       "    }\n",
       "\n",
       "    .dataframe thead th {\n",
       "        text-align: right;\n",
       "    }\n",
       "</style>\n",
       "<table border=\"1\" class=\"dataframe\">\n",
       "  <thead>\n",
       "    <tr style=\"text-align: right;\">\n",
       "      <th></th>\n",
       "      <th>0</th>\n",
       "      <th>1</th>\n",
       "    </tr>\n",
       "  </thead>\n",
       "  <tbody>\n",
       "    <tr>\n",
       "      <th>0</th>\n",
       "      <td>French macaroon is so tasty</td>\n",
       "      <td>4</td>\n",
       "    </tr>\n",
       "    <tr>\n",
       "      <th>1</th>\n",
       "      <td>work is horrible</td>\n",
       "      <td>3</td>\n",
       "    </tr>\n",
       "    <tr>\n",
       "      <th>2</th>\n",
       "      <td>I am upset</td>\n",
       "      <td>3</td>\n",
       "    </tr>\n",
       "    <tr>\n",
       "      <th>3</th>\n",
       "      <td>throw the ball</td>\n",
       "      <td>1</td>\n",
       "    </tr>\n",
       "    <tr>\n",
       "      <th>4</th>\n",
       "      <td>Good joke</td>\n",
       "      <td>2</td>\n",
       "    </tr>\n",
       "  </tbody>\n",
       "</table>\n",
       "</div>"
      ],
      "text/plain": [
       "                             0  1\n",
       "0  French macaroon is so tasty  4\n",
       "1             work is horrible  3\n",
       "2                   I am upset  3\n",
       "3               throw the ball  1\n",
       "4                    Good joke  2"
      ]
     },
     "execution_count": 3,
     "metadata": {},
     "output_type": "execute_result"
    }
   ],
   "source": [
    "data = pd.read_csv('/kaggle/input/emoji-dataset/emoji_data.csv', header=None)\n",
    "data.head()"
   ]
  },
  {
   "cell_type": "code",
   "execution_count": 4,
   "id": "3ed4806c",
   "metadata": {
    "execution": {
     "iopub.execute_input": "2025-05-27T00:31:01.629411Z",
     "iopub.status.busy": "2025-05-27T00:31:01.628978Z",
     "iopub.status.idle": "2025-05-27T00:31:01.634750Z",
     "shell.execute_reply": "2025-05-27T00:31:01.633385Z"
    },
    "papermill": {
     "duration": 0.011963,
     "end_time": "2025-05-27T00:31:01.636481",
     "exception": false,
     "start_time": "2025-05-27T00:31:01.624518",
     "status": "completed"
    },
    "tags": []
   },
   "outputs": [],
   "source": [
    "emoji_dict = {\n",
    "    0: \":red_heart:\",\n",
    "    1: \":baseball:\",\n",
    "    2: \":grinning_face_with_big_eyes:\",\n",
    "    3: \":disappointed_face:\",\n",
    "    4: \":fork_and_knife_with_plate:\"\n",
    "}\n",
    "\n",
    "def label_to_emoji(label):\n",
    "    return emoji.emojize(emoji_dict[label])"
   ]
  },
  {
   "cell_type": "code",
   "execution_count": 5,
   "id": "1ae60b2b",
   "metadata": {
    "execution": {
     "iopub.execute_input": "2025-05-27T00:31:01.645749Z",
     "iopub.status.busy": "2025-05-27T00:31:01.645397Z",
     "iopub.status.idle": "2025-05-27T00:31:01.657012Z",
     "shell.execute_reply": "2025-05-27T00:31:01.655514Z"
    },
    "papermill": {
     "duration": 0.018718,
     "end_time": "2025-05-27T00:31:01.659187",
     "exception": false,
     "start_time": "2025-05-27T00:31:01.640469",
     "status": "completed"
    },
    "tags": []
   },
   "outputs": [
    {
     "data": {
      "text/plain": [
       "array([4, 3, 3, 1, 2, 1, 4, 3, 4, 1, 3, 3, 2, 2, 4, 3, 2, 3, 3, 1, 3, 2,\n",
       "       2, 2, 0, 1, 0, 4, 2, 0, 2, 0, 0, 3, 4, 0, 2, 1, 3, 1, 0, 4, 0, 3,\n",
       "       0, 4, 2, 3, 4, 2, 2, 3, 0, 2, 2, 3, 2, 3, 2, 2, 3, 3, 0, 2, 3, 0,\n",
       "       2, 0, 0, 2, 3, 2, 4, 1, 3, 3, 0, 0, 3, 2, 0, 3, 0, 2, 2, 4, 2, 2,\n",
       "       0, 0, 2, 3, 0, 4, 2, 1, 2, 3, 3, 2, 3, 0, 3, 0, 2, 0, 2, 3, 4, 3,\n",
       "       1, 3, 4, 3, 2, 3, 3, 3, 1, 4, 4, 2, 2, 1, 1, 2, 3, 2, 3, 4, 2, 3,\n",
       "       0, 2, 0, 0, 4, 3, 4, 2, 3, 2, 3, 4, 2, 1, 2, 4, 3, 1, 3, 2, 3, 2,\n",
       "       2, 3, 3, 2, 4, 0, 0, 0, 3, 0, 0, 1, 1, 2, 2, 2, 0, 3, 2, 3, 3, 1,\n",
       "       2, 2, 4, 2, 3, 1, 2])"
      ]
     },
     "execution_count": 5,
     "metadata": {},
     "output_type": "execute_result"
    }
   ],
   "source": [
    "X = data[0].values\n",
    "Y = data[1].values\n",
    "Y"
   ]
  },
  {
   "cell_type": "markdown",
   "id": "f36c6994",
   "metadata": {
    "papermill": {
     "duration": 0.003347,
     "end_time": "2025-05-27T00:31:01.666272",
     "exception": false,
     "start_time": "2025-05-27T00:31:01.662925",
     "status": "completed"
    },
    "tags": []
   },
   "source": [
    "## Embeddings"
   ]
  },
  {
   "cell_type": "code",
   "execution_count": 6,
   "id": "2b817cd6",
   "metadata": {
    "execution": {
     "iopub.execute_input": "2025-05-27T00:31:01.676247Z",
     "iopub.status.busy": "2025-05-27T00:31:01.675852Z",
     "iopub.status.idle": "2025-05-27T00:31:07.290260Z",
     "shell.execute_reply": "2025-05-27T00:31:07.289297Z"
    },
    "papermill": {
     "duration": 5.621169,
     "end_time": "2025-05-27T00:31:07.291927",
     "exception": false,
     "start_time": "2025-05-27T00:31:01.670758",
     "status": "completed"
    },
    "tags": []
   },
   "outputs": [],
   "source": [
    "file = open('/kaggle/input/glove-embeddings/glove.6B.100d.txt','r',encoding='utf8')\n",
    "content = file.readlines()\n",
    "file.close()\n",
    "# content"
   ]
  },
  {
   "cell_type": "code",
   "execution_count": 7,
   "id": "7bda1b6b",
   "metadata": {
    "execution": {
     "iopub.execute_input": "2025-05-27T00:31:07.300583Z",
     "iopub.status.busy": "2025-05-27T00:31:07.300256Z",
     "iopub.status.idle": "2025-05-27T00:31:17.172663Z",
     "shell.execute_reply": "2025-05-27T00:31:17.171758Z"
    },
    "papermill": {
     "duration": 9.879092,
     "end_time": "2025-05-27T00:31:17.174679",
     "exception": false,
     "start_time": "2025-05-27T00:31:07.295587",
     "status": "completed"
    },
    "tags": []
   },
   "outputs": [],
   "source": [
    "embeddings = {}\n",
    "\n",
    "for line in content:\n",
    "    line =  line.split()\n",
    "    embeddings[line[0]] = np.array(line[1:], dtype=float)"
   ]
  },
  {
   "cell_type": "code",
   "execution_count": 8,
   "id": "9bc654ef",
   "metadata": {
    "execution": {
     "iopub.execute_input": "2025-05-27T00:31:17.183049Z",
     "iopub.status.busy": "2025-05-27T00:31:17.182675Z",
     "iopub.status.idle": "2025-05-27T00:31:17.189482Z",
     "shell.execute_reply": "2025-05-27T00:31:17.188583Z"
    },
    "papermill": {
     "duration": 0.0129,
     "end_time": "2025-05-27T00:31:17.191114",
     "exception": false,
     "start_time": "2025-05-27T00:31:17.178214",
     "status": "completed"
    },
    "tags": []
   },
   "outputs": [],
   "source": [
    "tokenizer = Tokenizer()\n",
    "tokenizer.fit_on_texts(X)\n",
    "word2index = tokenizer.word_index"
   ]
  },
  {
   "cell_type": "code",
   "execution_count": 9,
   "id": "2b39517e",
   "metadata": {
    "execution": {
     "iopub.execute_input": "2025-05-27T00:31:17.198944Z",
     "iopub.status.busy": "2025-05-27T00:31:17.198643Z",
     "iopub.status.idle": "2025-05-27T00:31:17.218165Z",
     "shell.execute_reply": "2025-05-27T00:31:17.217184Z"
    },
    "papermill": {
     "duration": 0.025233,
     "end_time": "2025-05-27T00:31:17.219743",
     "exception": false,
     "start_time": "2025-05-27T00:31:17.194510",
     "status": "completed"
    },
    "tags": []
   },
   "outputs": [],
   "source": [
    "Xtokens = tokenizer.texts_to_sequences(X)"
   ]
  },
  {
   "cell_type": "code",
   "execution_count": 10,
   "id": "52f4e786",
   "metadata": {
    "execution": {
     "iopub.execute_input": "2025-05-27T00:31:17.227934Z",
     "iopub.status.busy": "2025-05-27T00:31:17.227627Z",
     "iopub.status.idle": "2025-05-27T00:31:17.232324Z",
     "shell.execute_reply": "2025-05-27T00:31:17.231436Z"
    },
    "papermill": {
     "duration": 0.010572,
     "end_time": "2025-05-27T00:31:17.233930",
     "exception": false,
     "start_time": "2025-05-27T00:31:17.223358",
     "status": "completed"
    },
    "tags": []
   },
   "outputs": [],
   "source": [
    "def get_maxlen(data):\n",
    "    maxlen = 0\n",
    "    for sent in data:\n",
    "        maxlen = max(maxlen, len(sent))\n",
    "    return maxlen\n",
    "\n",
    "maxlen = get_maxlen(Xtokens)\n",
    "# print(maxlen)"
   ]
  },
  {
   "cell_type": "code",
   "execution_count": 11,
   "id": "7e35eea6",
   "metadata": {
    "execution": {
     "iopub.execute_input": "2025-05-27T00:31:17.242480Z",
     "iopub.status.busy": "2025-05-27T00:31:17.241685Z",
     "iopub.status.idle": "2025-05-27T00:31:17.247162Z",
     "shell.execute_reply": "2025-05-27T00:31:17.246375Z"
    },
    "papermill": {
     "duration": 0.011147,
     "end_time": "2025-05-27T00:31:17.248571",
     "exception": false,
     "start_time": "2025-05-27T00:31:17.237424",
     "status": "completed"
    },
    "tags": []
   },
   "outputs": [],
   "source": [
    "Xtrain = pad_sequences(Xtokens, maxlen=maxlen, padding = 'post', truncating = 'post')"
   ]
  },
  {
   "cell_type": "code",
   "execution_count": 12,
   "id": "37c6722b",
   "metadata": {
    "execution": {
     "iopub.execute_input": "2025-05-27T00:31:17.256423Z",
     "iopub.status.busy": "2025-05-27T00:31:17.256153Z",
     "iopub.status.idle": "2025-05-27T00:31:17.260471Z",
     "shell.execute_reply": "2025-05-27T00:31:17.259740Z"
    },
    "papermill": {
     "duration": 0.009787,
     "end_time": "2025-05-27T00:31:17.261763",
     "exception": false,
     "start_time": "2025-05-27T00:31:17.251976",
     "status": "completed"
    },
    "tags": []
   },
   "outputs": [],
   "source": [
    "Ytrain = to_categorical(Y)"
   ]
  },
  {
   "cell_type": "code",
   "execution_count": null,
   "id": "38ee4d9b",
   "metadata": {
    "papermill": {
     "duration": 0.003003,
     "end_time": "2025-05-27T00:31:17.268249",
     "exception": false,
     "start_time": "2025-05-27T00:31:17.265246",
     "status": "completed"
    },
    "tags": []
   },
   "outputs": [],
   "source": []
  },
  {
   "cell_type": "code",
   "execution_count": null,
   "id": "739b839b",
   "metadata": {
    "papermill": {
     "duration": 0.003131,
     "end_time": "2025-05-27T00:31:17.274479",
     "exception": false,
     "start_time": "2025-05-27T00:31:17.271348",
     "status": "completed"
    },
    "tags": []
   },
   "outputs": [],
   "source": []
  }
 ],
 "metadata": {
  "kaggle": {
   "accelerator": "none",
   "dataSources": [
    {
     "datasetId": 870709,
     "sourceId": 1483651,
     "sourceType": "datasetVersion"
    },
    {
     "datasetId": 7522672,
     "sourceId": 11963430,
     "sourceType": "datasetVersion"
    }
   ],
   "dockerImageVersionId": 31040,
   "isGpuEnabled": false,
   "isInternetEnabled": true,
   "language": "python",
   "sourceType": "notebook"
  },
  "kernelspec": {
   "display_name": "Python 3",
   "language": "python",
   "name": "python3"
  },
  "language_info": {
   "codemirror_mode": {
    "name": "ipython",
    "version": 3
   },
   "file_extension": ".py",
   "mimetype": "text/x-python",
   "name": "python",
   "nbconvert_exporter": "python",
   "pygments_lexer": "ipython3",
   "version": "3.11.11"
  },
  "papermill": {
   "default_parameters": {},
   "duration": 46.328076,
   "end_time": "2025-05-27T00:31:20.055415",
   "environment_variables": {},
   "exception": null,
   "input_path": "__notebook__.ipynb",
   "output_path": "__notebook__.ipynb",
   "parameters": {},
   "start_time": "2025-05-27T00:30:33.727339",
   "version": "2.6.0"
  }
 },
 "nbformat": 4,
 "nbformat_minor": 5
}
