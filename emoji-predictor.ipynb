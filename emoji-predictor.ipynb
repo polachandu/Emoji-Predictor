{
 "cells": [
  {
   "cell_type": "code",
   "execution_count": 1,
   "id": "2c510165",
   "metadata": {
    "_cell_guid": "b1076dfc-b9ad-4769-8c92-a6c4dae69d19",
    "_uuid": "8f2839f25d086af736a60e9eeb907d3b93b6e0e5",
    "execution": {
     "iopub.execute_input": "2025-05-25T20:00:15.922018Z",
     "iopub.status.busy": "2025-05-25T20:00:15.921681Z",
     "iopub.status.idle": "2025-05-25T20:00:17.744132Z",
     "shell.execute_reply": "2025-05-25T20:00:17.743145Z"
    },
    "papermill": {
     "duration": 1.827675,
     "end_time": "2025-05-25T20:00:17.745582",
     "exception": false,
     "start_time": "2025-05-25T20:00:15.917907",
     "status": "completed"
    },
    "tags": []
   },
   "outputs": [
    {
     "name": "stdout",
     "output_type": "stream",
     "text": [
      "/kaggle/input/emoji-data/emoji_data.csv\n",
      "/kaggle/input/glove-embeddings/glove.6B.200d.txt\n",
      "/kaggle/input/glove-embeddings/glove.6B.50d.txt\n",
      "/kaggle/input/glove-embeddings/glove.6B.300d.txt\n",
      "/kaggle/input/glove-embeddings/glove.6B.100d.txt\n"
     ]
    }
   ],
   "source": [
    "# This Python 3 environment comes with many helpful analytics libraries installed\n",
    "# It is defined by the kaggle/python Docker image: https://github.com/kaggle/docker-python\n",
    "# For example, here's several helpful packages to load\n",
    "\n",
    "import numpy as np # linear algebra\n",
    "import pandas as pd # data processing, CSV file I/O (e.g. pd.read_csv)\n",
    "\n",
    "# Input data files are available in the read-only \"../input/\" directory\n",
    "# For example, running this (by clicking run or pressing Shift+Enter) will list all files under the input directory\n",
    "\n",
    "import os\n",
    "for dirname, _, filenames in os.walk('/kaggle/input'):\n",
    "    for filename in filenames:\n",
    "        print(os.path.join(dirname, filename))\n",
    "\n",
    "# You can write up to 20GB to the current directory (/kaggle/working/) that gets preserved as output when you create a version using \"Save & Run All\" \n",
    "# You can also write temporary files to /kaggle/temp/, but they won't be saved outside of the current session"
   ]
  },
  {
   "cell_type": "code",
   "execution_count": 2,
   "id": "7382067c",
   "metadata": {
    "execution": {
     "iopub.execute_input": "2025-05-25T20:00:17.751501Z",
     "iopub.status.busy": "2025-05-25T20:00:17.751141Z",
     "iopub.status.idle": "2025-05-25T20:00:35.330608Z",
     "shell.execute_reply": "2025-05-25T20:00:35.329777Z"
    },
    "papermill": {
     "duration": 17.583954,
     "end_time": "2025-05-25T20:00:35.332232",
     "exception": false,
     "start_time": "2025-05-25T20:00:17.748278",
     "status": "completed"
    },
    "tags": []
   },
   "outputs": [
    {
     "name": "stderr",
     "output_type": "stream",
     "text": [
      "2025-05-25 20:00:20.096407: E external/local_xla/xla/stream_executor/cuda/cuda_fft.cc:477] Unable to register cuFFT factory: Attempting to register factory for plugin cuFFT when one has already been registered\n",
      "WARNING: All log messages before absl::InitializeLog() is called are written to STDERR\n",
      "E0000 00:00:1748203220.330594      13 cuda_dnn.cc:8310] Unable to register cuDNN factory: Attempting to register factory for plugin cuDNN when one has already been registered\n",
      "E0000 00:00:1748203220.398032      13 cuda_blas.cc:1418] Unable to register cuBLAS factory: Attempting to register factory for plugin cuBLAS when one has already been registered\n"
     ]
    }
   ],
   "source": [
    "import numpy as np\n",
    "import pandas as pd\n",
    "import emoji\n",
    "\n",
    "from keras.models import Sequential\n",
    "from keras.layers import Dense, LSTM, SimpleRNN, Embedding"
   ]
  },
  {
   "cell_type": "code",
   "execution_count": 3,
   "id": "6aa83b2a",
   "metadata": {
    "execution": {
     "iopub.execute_input": "2025-05-25T20:00:35.338381Z",
     "iopub.status.busy": "2025-05-25T20:00:35.337889Z",
     "iopub.status.idle": "2025-05-25T20:00:35.371694Z",
     "shell.execute_reply": "2025-05-25T20:00:35.370876Z"
    },
    "papermill": {
     "duration": 0.038241,
     "end_time": "2025-05-25T20:00:35.373114",
     "exception": false,
     "start_time": "2025-05-25T20:00:35.334873",
     "status": "completed"
    },
    "tags": []
   },
   "outputs": [
    {
     "data": {
      "text/html": [
       "<div>\n",
       "<style scoped>\n",
       "    .dataframe tbody tr th:only-of-type {\n",
       "        vertical-align: middle;\n",
       "    }\n",
       "\n",
       "    .dataframe tbody tr th {\n",
       "        vertical-align: top;\n",
       "    }\n",
       "\n",
       "    .dataframe thead th {\n",
       "        text-align: right;\n",
       "    }\n",
       "</style>\n",
       "<table border=\"1\" class=\"dataframe\">\n",
       "  <thead>\n",
       "    <tr style=\"text-align: right;\">\n",
       "      <th></th>\n",
       "      <th>0</th>\n",
       "      <th>1</th>\n",
       "    </tr>\n",
       "  </thead>\n",
       "  <tbody>\n",
       "    <tr>\n",
       "      <th>0</th>\n",
       "      <td>French macaroon is so tasty</td>\n",
       "      <td>4</td>\n",
       "    </tr>\n",
       "    <tr>\n",
       "      <th>1</th>\n",
       "      <td>work is horrible</td>\n",
       "      <td>3</td>\n",
       "    </tr>\n",
       "    <tr>\n",
       "      <th>2</th>\n",
       "      <td>I am upset</td>\n",
       "      <td>3</td>\n",
       "    </tr>\n",
       "    <tr>\n",
       "      <th>3</th>\n",
       "      <td>throw the ball</td>\n",
       "      <td>1</td>\n",
       "    </tr>\n",
       "    <tr>\n",
       "      <th>4</th>\n",
       "      <td>Good joke</td>\n",
       "      <td>2</td>\n",
       "    </tr>\n",
       "  </tbody>\n",
       "</table>\n",
       "</div>"
      ],
      "text/plain": [
       "                             0   1\n",
       "0  French macaroon is so tasty   4\n",
       "1             work is horrible   3\n",
       "2                   I am upset  3 \n",
       "3               throw the ball  1 \n",
       "4                    Good joke   2"
      ]
     },
     "execution_count": 3,
     "metadata": {},
     "output_type": "execute_result"
    }
   ],
   "source": [
    "data = pd.read_csv('/kaggle/input/emoji-data/emoji_data.csv', header=None)\n",
    "data.head()"
   ]
  },
  {
   "cell_type": "code",
   "execution_count": 4,
   "id": "6693a288",
   "metadata": {
    "execution": {
     "iopub.execute_input": "2025-05-25T20:00:35.379435Z",
     "iopub.status.busy": "2025-05-25T20:00:35.378870Z",
     "iopub.status.idle": "2025-05-25T20:00:35.383186Z",
     "shell.execute_reply": "2025-05-25T20:00:35.382470Z"
    },
    "papermill": {
     "duration": 0.008787,
     "end_time": "2025-05-25T20:00:35.384449",
     "exception": false,
     "start_time": "2025-05-25T20:00:35.375662",
     "status": "completed"
    },
    "tags": []
   },
   "outputs": [],
   "source": [
    "emoji_dict = {\n",
    "    0: \":red_heart:\",\n",
    "    1: \":baseball:\",\n",
    "    2: \":grinning_face_with_big_eyes:\",\n",
    "    3: \":disappointed_face:\",\n",
    "    4: \":fork_and_knife_with_plate:\"\n",
    "}\n",
    "\n",
    "def label_to_emoji(label):\n",
    "    return emoji.emojize(emoji_dict[label])"
   ]
  },
  {
   "cell_type": "code",
   "execution_count": 5,
   "id": "a0a26767",
   "metadata": {
    "execution": {
     "iopub.execute_input": "2025-05-25T20:00:35.390344Z",
     "iopub.status.busy": "2025-05-25T20:00:35.390083Z",
     "iopub.status.idle": "2025-05-25T20:00:35.395647Z",
     "shell.execute_reply": "2025-05-25T20:00:35.394946Z"
    },
    "papermill": {
     "duration": 0.010111,
     "end_time": "2025-05-25T20:00:35.397095",
     "exception": false,
     "start_time": "2025-05-25T20:00:35.386984",
     "status": "completed"
    },
    "tags": []
   },
   "outputs": [],
   "source": [
    "X = data[0].values\n",
    "Y = data[1].values"
   ]
  },
  {
   "cell_type": "markdown",
   "id": "dbe36d11",
   "metadata": {
    "papermill": {
     "duration": 0.002187,
     "end_time": "2025-05-25T20:00:35.401993",
     "exception": false,
     "start_time": "2025-05-25T20:00:35.399806",
     "status": "completed"
    },
    "tags": []
   },
   "source": [
    "## Embeddings"
   ]
  },
  {
   "cell_type": "code",
   "execution_count": 6,
   "id": "e882d057",
   "metadata": {
    "execution": {
     "iopub.execute_input": "2025-05-25T20:00:35.408100Z",
     "iopub.status.busy": "2025-05-25T20:00:35.407506Z",
     "iopub.status.idle": "2025-05-25T20:00:40.128476Z",
     "shell.execute_reply": "2025-05-25T20:00:40.127644Z"
    },
    "papermill": {
     "duration": 4.725608,
     "end_time": "2025-05-25T20:00:40.129973",
     "exception": false,
     "start_time": "2025-05-25T20:00:35.404365",
     "status": "completed"
    },
    "tags": []
   },
   "outputs": [],
   "source": [
    "file = open('/kaggle/input/glove-embeddings/glove.6B.100d.txt','r',encoding='utf8')\n",
    "content = file.readlines()\n",
    "file.close()\n",
    "# content"
   ]
  },
  {
   "cell_type": "code",
   "execution_count": 7,
   "id": "6933b09f",
   "metadata": {
    "execution": {
     "iopub.execute_input": "2025-05-25T20:00:40.135962Z",
     "iopub.status.busy": "2025-05-25T20:00:40.135632Z",
     "iopub.status.idle": "2025-05-25T20:00:49.238447Z",
     "shell.execute_reply": "2025-05-25T20:00:49.237776Z"
    },
    "papermill": {
     "duration": 9.1074,
     "end_time": "2025-05-25T20:00:49.239968",
     "exception": false,
     "start_time": "2025-05-25T20:00:40.132568",
     "status": "completed"
    },
    "tags": []
   },
   "outputs": [],
   "source": [
    "embeddings = {}\n",
    "\n",
    "for line in content:\n",
    "    line =  line.split()\n",
    "    embeddings[line[0]] = np.array(line[1:], dtype=float)"
   ]
  },
  {
   "cell_type": "code",
   "execution_count": null,
   "id": "cfb299c3",
   "metadata": {
    "papermill": {
     "duration": 0.002162,
     "end_time": "2025-05-25T20:00:49.244686",
     "exception": false,
     "start_time": "2025-05-25T20:00:49.242524",
     "status": "completed"
    },
    "tags": []
   },
   "outputs": [],
   "source": []
  }
 ],
 "metadata": {
  "kaggle": {
   "accelerator": "none",
   "dataSources": [
    {
     "datasetId": 7512758,
     "sourceId": 11949934,
     "sourceType": "datasetVersion"
    },
    {
     "datasetId": 870709,
     "sourceId": 1483651,
     "sourceType": "datasetVersion"
    }
   ],
   "dockerImageVersionId": 31040,
   "isGpuEnabled": false,
   "isInternetEnabled": true,
   "language": "python",
   "sourceType": "notebook"
  },
  "kernelspec": {
   "display_name": "Python 3",
   "language": "python",
   "name": "python3"
  },
  "language_info": {
   "codemirror_mode": {
    "name": "ipython",
    "version": 3
   },
   "file_extension": ".py",
   "mimetype": "text/x-python",
   "name": "python",
   "nbconvert_exporter": "python",
   "pygments_lexer": "ipython3",
   "version": "3.11.11"
  },
  "papermill": {
   "default_parameters": {},
   "duration": 41.070303,
   "end_time": "2025-05-25T20:00:52.536242",
   "environment_variables": {},
   "exception": null,
   "input_path": "__notebook__.ipynb",
   "output_path": "__notebook__.ipynb",
   "parameters": {},
   "start_time": "2025-05-25T20:00:11.465939",
   "version": "2.6.0"
  }
 },
 "nbformat": 4,
 "nbformat_minor": 5
}
