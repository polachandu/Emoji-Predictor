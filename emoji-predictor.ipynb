{
 "cells": [
  {
   "cell_type": "code",
   "execution_count": 1,
   "id": "80c95268",
   "metadata": {
    "_cell_guid": "b1076dfc-b9ad-4769-8c92-a6c4dae69d19",
    "_uuid": "8f2839f25d086af736a60e9eeb907d3b93b6e0e5",
    "execution": {
     "iopub.execute_input": "2025-05-27T00:40:07.681598Z",
     "iopub.status.busy": "2025-05-27T00:40:07.681202Z",
     "iopub.status.idle": "2025-05-27T00:40:09.964215Z",
     "shell.execute_reply": "2025-05-27T00:40:09.963017Z"
    },
    "papermill": {
     "duration": 2.290648,
     "end_time": "2025-05-27T00:40:09.966186",
     "exception": false,
     "start_time": "2025-05-27T00:40:07.675538",
     "status": "completed"
    },
    "tags": []
   },
   "outputs": [
    {
     "name": "stdout",
     "output_type": "stream",
     "text": [
      "/kaggle/input/glove-embeddings/glove.6B.200d.txt\n",
      "/kaggle/input/glove-embeddings/glove.6B.50d.txt\n",
      "/kaggle/input/glove-embeddings/glove.6B.300d.txt\n",
      "/kaggle/input/glove-embeddings/glove.6B.100d.txt\n",
      "/kaggle/input/emoji-dataset/emoji_data.csv\n"
     ]
    }
   ],
   "source": [
    "# This Python 3 environment comes with many helpful analytics libraries installed\n",
    "# It is defined by the kaggle/python Docker image: https://github.com/kaggle/docker-python\n",
    "# For example, here's several helpful packages to load\n",
    "\n",
    "import numpy as np # linear algebra\n",
    "import pandas as pd # data processing, CSV file I/O (e.g. pd.read_csv)\n",
    "\n",
    "# Input data files are available in the read-only \"../input/\" directory\n",
    "# For example, running this (by clicking run or pressing Shift+Enter) will list all files under the input directory\n",
    "\n",
    "import os\n",
    "for dirname, _, filenames in os.walk('/kaggle/input'):\n",
    "    for filename in filenames:\n",
    "        print(os.path.join(dirname, filename))\n",
    "\n",
    "# You can write up to 20GB to the current directory (/kaggle/working/) that gets preserved as output when you create a version using \"Save & Run All\" \n",
    "# You can also write temporary files to /kaggle/temp/, but they won't be saved outside of the current session"
   ]
  },
  {
   "cell_type": "code",
   "execution_count": 2,
   "id": "5cdc2c8f",
   "metadata": {
    "execution": {
     "iopub.execute_input": "2025-05-27T00:40:09.979604Z",
     "iopub.status.busy": "2025-05-27T00:40:09.979172Z",
     "iopub.status.idle": "2025-05-27T00:40:30.672122Z",
     "shell.execute_reply": "2025-05-27T00:40:30.671081Z"
    },
    "papermill": {
     "duration": 20.702407,
     "end_time": "2025-05-27T00:40:30.674924",
     "exception": false,
     "start_time": "2025-05-27T00:40:09.972517",
     "status": "completed"
    },
    "tags": []
   },
   "outputs": [
    {
     "name": "stderr",
     "output_type": "stream",
     "text": [
      "2025-05-27 00:40:12.244968: E external/local_xla/xla/stream_executor/cuda/cuda_fft.cc:477] Unable to register cuFFT factory: Attempting to register factory for plugin cuFFT when one has already been registered\n",
      "WARNING: All log messages before absl::InitializeLog() is called are written to STDERR\n",
      "E0000 00:00:1748306412.548886      13 cuda_dnn.cc:8310] Unable to register cuDNN factory: Attempting to register factory for plugin cuDNN when one has already been registered\n",
      "E0000 00:00:1748306412.638381      13 cuda_blas.cc:1418] Unable to register cuBLAS factory: Attempting to register factory for plugin cuBLAS when one has already been registered\n"
     ]
    }
   ],
   "source": [
    "import numpy as np\n",
    "import pandas as pd\n",
    "import emoji\n",
    "\n",
    "from keras.models import Sequential\n",
    "from keras.layers import Dense, LSTM, SimpleRNN, Embedding\n",
    "from tensorflow.keras.preprocessing.text import Tokenizer\n",
    "from tensorflow.keras.preprocessing.sequence import pad_sequences\n",
    "from tensorflow.keras.utils import to_categorical"
   ]
  },
  {
   "cell_type": "code",
   "execution_count": 3,
   "id": "daae4dc8",
   "metadata": {
    "execution": {
     "iopub.execute_input": "2025-05-27T00:40:30.685511Z",
     "iopub.status.busy": "2025-05-27T00:40:30.684838Z",
     "iopub.status.idle": "2025-05-27T00:40:30.728476Z",
     "shell.execute_reply": "2025-05-27T00:40:30.727090Z"
    },
    "papermill": {
     "duration": 0.051202,
     "end_time": "2025-05-27T00:40:30.730529",
     "exception": false,
     "start_time": "2025-05-27T00:40:30.679327",
     "status": "completed"
    },
    "tags": []
   },
   "outputs": [
    {
     "data": {
      "text/html": [
       "<div>\n",
       "<style scoped>\n",
       "    .dataframe tbody tr th:only-of-type {\n",
       "        vertical-align: middle;\n",
       "    }\n",
       "\n",
       "    .dataframe tbody tr th {\n",
       "        vertical-align: top;\n",
       "    }\n",
       "\n",
       "    .dataframe thead th {\n",
       "        text-align: right;\n",
       "    }\n",
       "</style>\n",
       "<table border=\"1\" class=\"dataframe\">\n",
       "  <thead>\n",
       "    <tr style=\"text-align: right;\">\n",
       "      <th></th>\n",
       "      <th>0</th>\n",
       "      <th>1</th>\n",
       "    </tr>\n",
       "  </thead>\n",
       "  <tbody>\n",
       "    <tr>\n",
       "      <th>0</th>\n",
       "      <td>French macaroon is so tasty</td>\n",
       "      <td>4</td>\n",
       "    </tr>\n",
       "    <tr>\n",
       "      <th>1</th>\n",
       "      <td>work is horrible</td>\n",
       "      <td>3</td>\n",
       "    </tr>\n",
       "    <tr>\n",
       "      <th>2</th>\n",
       "      <td>I am upset</td>\n",
       "      <td>3</td>\n",
       "    </tr>\n",
       "    <tr>\n",
       "      <th>3</th>\n",
       "      <td>throw the ball</td>\n",
       "      <td>1</td>\n",
       "    </tr>\n",
       "    <tr>\n",
       "      <th>4</th>\n",
       "      <td>Good joke</td>\n",
       "      <td>2</td>\n",
       "    </tr>\n",
       "  </tbody>\n",
       "</table>\n",
       "</div>"
      ],
      "text/plain": [
       "                             0  1\n",
       "0  French macaroon is so tasty  4\n",
       "1             work is horrible  3\n",
       "2                   I am upset  3\n",
       "3               throw the ball  1\n",
       "4                    Good joke  2"
      ]
     },
     "execution_count": 3,
     "metadata": {},
     "output_type": "execute_result"
    }
   ],
   "source": [
    "data = pd.read_csv('/kaggle/input/emoji-dataset/emoji_data.csv', header=None)\n",
    "data.head()"
   ]
  },
  {
   "cell_type": "code",
   "execution_count": 4,
   "id": "2a663cd9",
   "metadata": {
    "execution": {
     "iopub.execute_input": "2025-05-27T00:40:30.741395Z",
     "iopub.status.busy": "2025-05-27T00:40:30.740700Z",
     "iopub.status.idle": "2025-05-27T00:40:30.749118Z",
     "shell.execute_reply": "2025-05-27T00:40:30.747997Z"
    },
    "papermill": {
     "duration": 0.017475,
     "end_time": "2025-05-27T00:40:30.751870",
     "exception": false,
     "start_time": "2025-05-27T00:40:30.734395",
     "status": "completed"
    },
    "tags": []
   },
   "outputs": [],
   "source": [
    "emoji_dict = {\n",
    "    0: \":red_heart:\",\n",
    "    1: \":baseball:\",\n",
    "    2: \":grinning_face_with_big_eyes:\",\n",
    "    3: \":disappointed_face:\",\n",
    "    4: \":fork_and_knife_with_plate:\"\n",
    "}\n",
    "\n",
    "def label_to_emoji(label):\n",
    "    return emoji.emojize(emoji_dict[label])"
   ]
  },
  {
   "cell_type": "code",
   "execution_count": 5,
   "id": "4a48c19f",
   "metadata": {
    "execution": {
     "iopub.execute_input": "2025-05-27T00:40:30.761773Z",
     "iopub.status.busy": "2025-05-27T00:40:30.761370Z",
     "iopub.status.idle": "2025-05-27T00:40:30.771840Z",
     "shell.execute_reply": "2025-05-27T00:40:30.770573Z"
    },
    "papermill": {
     "duration": 0.018469,
     "end_time": "2025-05-27T00:40:30.775086",
     "exception": false,
     "start_time": "2025-05-27T00:40:30.756617",
     "status": "completed"
    },
    "tags": []
   },
   "outputs": [
    {
     "data": {
      "text/plain": [
       "array([4, 3, 3, 1, 2, 1, 4, 3, 4, 1, 3, 3, 2, 2, 4, 3, 2, 3, 3, 1, 3, 2,\n",
       "       2, 2, 0, 1, 0, 4, 2, 0, 2, 0, 0, 3, 4, 0, 2, 1, 3, 1, 0, 4, 0, 3,\n",
       "       0, 4, 2, 3, 4, 2, 2, 3, 0, 2, 2, 3, 2, 3, 2, 2, 3, 3, 0, 2, 3, 0,\n",
       "       2, 0, 0, 2, 3, 2, 4, 1, 3, 3, 0, 0, 3, 2, 0, 3, 0, 2, 2, 4, 2, 2,\n",
       "       0, 0, 2, 3, 0, 4, 2, 1, 2, 3, 3, 2, 3, 0, 3, 0, 2, 0, 2, 3, 4, 3,\n",
       "       1, 3, 4, 3, 2, 3, 3, 3, 1, 4, 4, 2, 2, 1, 1, 2, 3, 2, 3, 4, 2, 3,\n",
       "       0, 2, 0, 0, 4, 3, 4, 2, 3, 2, 3, 4, 2, 1, 2, 4, 3, 1, 3, 2, 3, 2,\n",
       "       2, 3, 3, 2, 4, 0, 0, 0, 3, 0, 0, 1, 1, 2, 2, 2, 0, 3, 2, 3, 3, 1,\n",
       "       2, 2, 4, 2, 3, 1, 2])"
      ]
     },
     "execution_count": 5,
     "metadata": {},
     "output_type": "execute_result"
    }
   ],
   "source": [
    "X = data[0].values\n",
    "Y = data[1].values\n",
    "Y"
   ]
  },
  {
   "cell_type": "markdown",
   "id": "8f783850",
   "metadata": {
    "papermill": {
     "duration": 0.004235,
     "end_time": "2025-05-27T00:40:30.784905",
     "exception": false,
     "start_time": "2025-05-27T00:40:30.780670",
     "status": "completed"
    },
    "tags": []
   },
   "source": [
    "## Embeddings"
   ]
  },
  {
   "cell_type": "code",
   "execution_count": 6,
   "id": "eb9bae93",
   "metadata": {
    "execution": {
     "iopub.execute_input": "2025-05-27T00:40:30.798228Z",
     "iopub.status.busy": "2025-05-27T00:40:30.797845Z",
     "iopub.status.idle": "2025-05-27T00:40:36.117667Z",
     "shell.execute_reply": "2025-05-27T00:40:36.116542Z"
    },
    "papermill": {
     "duration": 5.330214,
     "end_time": "2025-05-27T00:40:36.119434",
     "exception": false,
     "start_time": "2025-05-27T00:40:30.789220",
     "status": "completed"
    },
    "tags": []
   },
   "outputs": [],
   "source": [
    "file = open('/kaggle/input/glove-embeddings/glove.6B.100d.txt','r',encoding='utf8')\n",
    "content = file.readlines()\n",
    "file.close()\n",
    "# content"
   ]
  },
  {
   "cell_type": "code",
   "execution_count": 7,
   "id": "aae6b94d",
   "metadata": {
    "execution": {
     "iopub.execute_input": "2025-05-27T00:40:36.129127Z",
     "iopub.status.busy": "2025-05-27T00:40:36.128711Z",
     "iopub.status.idle": "2025-05-27T00:40:46.000434Z",
     "shell.execute_reply": "2025-05-27T00:40:45.999539Z"
    },
    "papermill": {
     "duration": 9.878548,
     "end_time": "2025-05-27T00:40:46.002174",
     "exception": false,
     "start_time": "2025-05-27T00:40:36.123626",
     "status": "completed"
    },
    "tags": []
   },
   "outputs": [],
   "source": [
    "embeddings = {}\n",
    "\n",
    "for line in content:\n",
    "    line =  line.split()\n",
    "    embeddings[line[0]] = np.array(line[1:], dtype=float)"
   ]
  },
  {
   "cell_type": "code",
   "execution_count": 8,
   "id": "00a89aa6",
   "metadata": {
    "execution": {
     "iopub.execute_input": "2025-05-27T00:40:46.011176Z",
     "iopub.status.busy": "2025-05-27T00:40:46.010809Z",
     "iopub.status.idle": "2025-05-27T00:40:46.017674Z",
     "shell.execute_reply": "2025-05-27T00:40:46.016827Z"
    },
    "papermill": {
     "duration": 0.013013,
     "end_time": "2025-05-27T00:40:46.019220",
     "exception": false,
     "start_time": "2025-05-27T00:40:46.006207",
     "status": "completed"
    },
    "tags": []
   },
   "outputs": [],
   "source": [
    "tokenizer = Tokenizer()\n",
    "tokenizer.fit_on_texts(X)\n",
    "word2index = tokenizer.word_index"
   ]
  },
  {
   "cell_type": "code",
   "execution_count": 9,
   "id": "ae5aa93d",
   "metadata": {
    "execution": {
     "iopub.execute_input": "2025-05-27T00:40:46.027806Z",
     "iopub.status.busy": "2025-05-27T00:40:46.027510Z",
     "iopub.status.idle": "2025-05-27T00:40:46.047995Z",
     "shell.execute_reply": "2025-05-27T00:40:46.046905Z"
    },
    "papermill": {
     "duration": 0.026754,
     "end_time": "2025-05-27T00:40:46.049737",
     "exception": false,
     "start_time": "2025-05-27T00:40:46.022983",
     "status": "completed"
    },
    "tags": []
   },
   "outputs": [],
   "source": [
    "Xtokens = tokenizer.texts_to_sequences(X)"
   ]
  },
  {
   "cell_type": "code",
   "execution_count": 10,
   "id": "9eda9871",
   "metadata": {
    "execution": {
     "iopub.execute_input": "2025-05-27T00:40:46.059214Z",
     "iopub.status.busy": "2025-05-27T00:40:46.058484Z",
     "iopub.status.idle": "2025-05-27T00:40:46.063835Z",
     "shell.execute_reply": "2025-05-27T00:40:46.062720Z"
    },
    "papermill": {
     "duration": 0.01175,
     "end_time": "2025-05-27T00:40:46.065516",
     "exception": false,
     "start_time": "2025-05-27T00:40:46.053766",
     "status": "completed"
    },
    "tags": []
   },
   "outputs": [],
   "source": [
    "def get_maxlen(data):\n",
    "    maxlen = 0\n",
    "    for sent in data:\n",
    "        maxlen = max(maxlen, len(sent))\n",
    "    return maxlen\n",
    "\n",
    "maxlen = get_maxlen(Xtokens)\n",
    "# print(maxlen)"
   ]
  },
  {
   "cell_type": "code",
   "execution_count": 11,
   "id": "91fda2e9",
   "metadata": {
    "execution": {
     "iopub.execute_input": "2025-05-27T00:40:46.074259Z",
     "iopub.status.busy": "2025-05-27T00:40:46.073912Z",
     "iopub.status.idle": "2025-05-27T00:40:46.079977Z",
     "shell.execute_reply": "2025-05-27T00:40:46.079140Z"
    },
    "papermill": {
     "duration": 0.012253,
     "end_time": "2025-05-27T00:40:46.081591",
     "exception": false,
     "start_time": "2025-05-27T00:40:46.069338",
     "status": "completed"
    },
    "tags": []
   },
   "outputs": [],
   "source": [
    "Xtrain = pad_sequences(Xtokens, maxlen=maxlen, padding = 'post', truncating = 'post')"
   ]
  },
  {
   "cell_type": "code",
   "execution_count": 12,
   "id": "546a8316",
   "metadata": {
    "execution": {
     "iopub.execute_input": "2025-05-27T00:40:46.091063Z",
     "iopub.status.busy": "2025-05-27T00:40:46.090426Z",
     "iopub.status.idle": "2025-05-27T00:40:46.095002Z",
     "shell.execute_reply": "2025-05-27T00:40:46.094171Z"
    },
    "papermill": {
     "duration": 0.010942,
     "end_time": "2025-05-27T00:40:46.096634",
     "exception": false,
     "start_time": "2025-05-27T00:40:46.085692",
     "status": "completed"
    },
    "tags": []
   },
   "outputs": [],
   "source": [
    "Ytrain = to_categorical(Y)"
   ]
  },
  {
   "cell_type": "markdown",
   "id": "811a311c",
   "metadata": {
    "papermill": {
     "duration": 0.003673,
     "end_time": "2025-05-27T00:40:46.104311",
     "exception": false,
     "start_time": "2025-05-27T00:40:46.100638",
     "status": "completed"
    },
    "tags": []
   },
   "source": [
    "## Model"
   ]
  },
  {
   "cell_type": "code",
   "execution_count": 13,
   "id": "0605a345",
   "metadata": {
    "execution": {
     "iopub.execute_input": "2025-05-27T00:40:46.113329Z",
     "iopub.status.busy": "2025-05-27T00:40:46.112939Z",
     "iopub.status.idle": "2025-05-27T00:40:46.119231Z",
     "shell.execute_reply": "2025-05-27T00:40:46.118348Z"
    },
    "papermill": {
     "duration": 0.012736,
     "end_time": "2025-05-27T00:40:46.120897",
     "exception": false,
     "start_time": "2025-05-27T00:40:46.108161",
     "status": "completed"
    },
    "tags": []
   },
   "outputs": [],
   "source": [
    "embed_size = 100\n",
    "embedding_matrix = np.zeros((len(word2index)+1, embed_size))\n",
    "\n",
    "for word, i in word2index.items():\n",
    "    embed_vector = embeddings[word]\n",
    "    embedding_matrix[i] = embed_vector"
   ]
  },
  {
   "cell_type": "code",
   "execution_count": 14,
   "id": "dac06722",
   "metadata": {
    "execution": {
     "iopub.execute_input": "2025-05-27T00:40:46.129826Z",
     "iopub.status.busy": "2025-05-27T00:40:46.129513Z",
     "iopub.status.idle": "2025-05-27T00:40:46.217061Z",
     "shell.execute_reply": "2025-05-27T00:40:46.216052Z"
    },
    "papermill": {
     "duration": 0.093877,
     "end_time": "2025-05-27T00:40:46.218769",
     "exception": false,
     "start_time": "2025-05-27T00:40:46.124892",
     "status": "completed"
    },
    "tags": []
   },
   "outputs": [
    {
     "name": "stderr",
     "output_type": "stream",
     "text": [
      "/usr/local/lib/python3.11/dist-packages/keras/src/layers/core/embedding.py:90: UserWarning: Argument `input_length` is deprecated. Just remove it.\n",
      "  warnings.warn(\n",
      "2025-05-27 00:40:46.138438: E external/local_xla/xla/stream_executor/cuda/cuda_driver.cc:152] failed call to cuInit: INTERNAL: CUDA error: Failed call to cuInit: UNKNOWN ERROR (303)\n"
     ]
    }
   ],
   "source": [
    "model = Sequential([Embedding(input_dim = len(word2index) +1 , \n",
    "                    output_dim = embed_size, \n",
    "                    input_length = maxlen,\n",
    "                   weights = [embedding_matrix],\n",
    "                             trainable = False),\n",
    "                   LSTM(units = 16, return_sequences=True),\n",
    "                    LSTM(units = 4)\n",
    "                   ])"
   ]
  },
  {
   "cell_type": "code",
   "execution_count": null,
   "id": "d2d034fd",
   "metadata": {
    "papermill": {
     "duration": 0.003508,
     "end_time": "2025-05-27T00:40:46.226197",
     "exception": false,
     "start_time": "2025-05-27T00:40:46.222689",
     "status": "completed"
    },
    "tags": []
   },
   "outputs": [],
   "source": []
  }
 ],
 "metadata": {
  "kaggle": {
   "accelerator": "none",
   "dataSources": [
    {
     "datasetId": 870709,
     "sourceId": 1483651,
     "sourceType": "datasetVersion"
    },
    {
     "datasetId": 7522672,
     "sourceId": 11963430,
     "sourceType": "datasetVersion"
    }
   ],
   "dockerImageVersionId": 31040,
   "isGpuEnabled": false,
   "isInternetEnabled": true,
   "language": "python",
   "sourceType": "notebook"
  },
  "kernelspec": {
   "display_name": "Python 3",
   "language": "python",
   "name": "python3"
  },
  "language_info": {
   "codemirror_mode": {
    "name": "ipython",
    "version": 3
   },
   "file_extension": ".py",
   "mimetype": "text/x-python",
   "name": "python",
   "nbconvert_exporter": "python",
   "pygments_lexer": "ipython3",
   "version": "3.11.11"
  },
  "papermill": {
   "default_parameters": {},
   "duration": 47.433196,
   "end_time": "2025-05-27T00:40:49.517337",
   "environment_variables": {},
   "exception": null,
   "input_path": "__notebook__.ipynb",
   "output_path": "__notebook__.ipynb",
   "parameters": {},
   "start_time": "2025-05-27T00:40:02.084141",
   "version": "2.6.0"
  }
 },
 "nbformat": 4,
 "nbformat_minor": 5
}
